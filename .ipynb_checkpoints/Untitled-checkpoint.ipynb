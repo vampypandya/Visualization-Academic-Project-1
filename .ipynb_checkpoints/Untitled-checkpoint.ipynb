{
 "cells": [
  {
   "cell_type": "code",
   "execution_count": 1,
   "metadata": {},
   "outputs": [],
   "source": [
    "import pandas as pd\n",
    "import numpy as np"
   ]
  },
  {
   "cell_type": "code",
   "execution_count": 2,
   "metadata": {},
   "outputs": [
    {
     "name": "stderr",
     "output_type": "stream",
     "text": [
      "/opt/anaconda3/lib/python3.7/site-packages/IPython/core/interactiveshell.py:3058: DtypeWarning: Columns (24) have mixed types. Specify dtype option on import or set low_memory=False.\n",
      "  interactivity=interactivity, compiler=compiler, result=result)\n",
      "/opt/anaconda3/lib/python3.7/site-packages/IPython/core/interactiveshell.py:3058: DtypeWarning: Columns (19,20) have mixed types. Specify dtype option on import or set low_memory=False.\n",
      "  interactivity=interactivity, compiler=compiler, result=result)\n"
     ]
    }
   ],
   "source": [
    "data1 = pd.read_csv('License_Applications.csv')  \n",
    "data2 = pd.read_csv('Legally_Operating_Businesses.csv') "
   ]
  },
  {
   "cell_type": "code",
   "execution_count": 3,
   "metadata": {},
   "outputs": [
    {
     "name": "stdout",
     "output_type": "stream",
     "text": [
      "['Application ID', 'License Number', 'License Type', 'Application or Renewal', 'Business Name', 'Status', 'Start Date', 'End Date', 'License Category', 'Application Category', 'Street', 'City', 'Zip', 'Contact Phone']\n",
      "(213476, 14)\n"
     ]
    }
   ],
   "source": [
    " \n",
    "\n",
    "# print(data1.head())\n",
    "# print(list(data1.columns.values))\n",
    "# print(len(list(data1.columns.values)))\n",
    "\n",
    "# Rem_List: 'Longitude', 'Latitude','Building Number','Temp Op Letter Issued', 'Temp Op Letter Expiration','Description','State','Active Vehicles','Street 2', 'Unit Type', 'Unit'\n",
    "data1 = data1.drop(['Longitude', 'Latitude','Building Number','Temp Op Letter Issued', 'Temp Op Letter Expiration','Description','State','Active Vehicles','Street 2', 'Unit Type', 'Unit'], axis=1)\n",
    "data1 = data1.dropna()\n",
    "data1 = data1.dropna(axis='columns')\n",
    "print(list(data1.columns.values))\n",
    "print(data1.shape)\n"
   ]
  },
  {
   "cell_type": "code",
   "execution_count": 4,
   "metadata": {},
   "outputs": [
    {
     "name": "stdout",
     "output_type": "stream",
     "text": [
      "['DCA License Number', 'License Expiration Date', 'License Status', 'License Creation Date']\n",
      "(201766, 4)\n"
     ]
    }
   ],
   "source": [
    "# print(data2.head())\n",
    "# print(list(data2.columns.values))\n",
    "# print(len(list(data2.columns.values)))\n",
    "\n",
    "\n",
    "#Rem List: 'Business Name', 'Business Name 2', 'Address Building', 'Address Street Name', 'Secondary Address Street Name', 'Address City', 'Address Borough', 'Borough Code', 'Longitude', 'Latitude', 'Location','Address State','Community Board', 'Council District', 'BIN', 'BBL', 'NTA', 'Census Tract', 'Detail'\n",
    "data2 = data2.drop(['Industry','Address ZIP','License Type','Contact Phone Number','Business Name', 'Business Name 2', 'Address Building', 'Address Street Name', 'Secondary Address Street Name', 'Address City', 'Address Borough', 'Borough Code', 'Longitude', 'Latitude', 'Location','Address State','Community Board', 'Council District', 'BIN', 'BBL', 'NTA', 'Census Tract', 'Detail'], axis=1)\n",
    "data2 = data2.dropna()\n",
    "data2 = data2.dropna(axis='columns')\n",
    "print(list(data2.columns.values))\n",
    "print(data2.shape)\n",
    "\n",
    "\n"
   ]
  },
  {
   "cell_type": "code",
   "execution_count": 5,
   "metadata": {},
   "outputs": [],
   "source": [
    "main = data1.merge(data2,left_on = \"License Number\", right_on = \"DCA License Number\", left_index = True, copy=False)\n",
    "main = main.drop(['DCA License Number'],axis = 1)\n",
    "main.drop_duplicates(subset = ['License Number'], keep='first',inplace=True) "
   ]
  },
  {
   "cell_type": "code",
   "execution_count": 6,
   "metadata": {},
   "outputs": [
    {
     "name": "stdout",
     "output_type": "stream",
     "text": [
      "(88627, 17)\n"
     ]
    }
   ],
   "source": [
    "# print(main.head())\n",
    "print(main.shape)"
   ]
  },
  {
   "cell_type": "code",
   "execution_count": 7,
   "metadata": {},
   "outputs": [
    {
     "name": "stdout",
     "output_type": "stream",
     "text": [
      "<bound method NDFrame.head of          Application ID License Number License Type Application or Renewal  \\\n",
      "104620   1066-2017-RHIC    1294131-DCA     Business                Renewal   \n",
      "168507   1164-2019-RDPD    1472251-DCA     Business                Renewal   \n",
      "107987  33701-2016-RELE    2025971-DCA     Business                Renewal   \n",
      "102844  34278-2018-RELE    2047043-DCA     Business                Renewal   \n",
      "49008     949-2017-RHIC    1338463-DCA     Business                Renewal   \n",
      "...                 ...            ...          ...                    ...   \n",
      "44830   10864-2019-AGAR    2090651-DCA     Business            Application   \n",
      "25660   10285-2017-AGAR    2055914-DCA     Business            Application   \n",
      "44241   35668-2019-RTRD  2066649-1-DCA     Business                Renewal   \n",
      "9311    10013-2019-ALAU    2090101-DCA     Business            Application   \n",
      "145137   8525-2016-AHIC    2040686-DCA     Business            Application   \n",
      "\n",
      "                         Business Name   Status  Start Date    End Date  \\\n",
      "104620                    PEYKO TZENOV   Issued  01/09/2017  01/10/2017   \n",
      "168507     AMERICAN EAST PHARMACY INC.   Issued  01/09/2019  01/10/2019   \n",
      "107987           LUCAS ELECTRONICS INC   Issued  12/31/2016  01/10/2017   \n",
      "102844     ELITE WIRELESS GROUP NY LLC   Issued  12/31/2018  01/08/2019   \n",
      "49008                TAORMINA, MICHAEL   Issued  01/06/2017  01/07/2017   \n",
      "...                                ...      ...         ...         ...   \n",
      "44830                       MP 475 LLC  Pending  09/13/2019  09/18/2019   \n",
      "25660   560 W 43RD STREET PARKING CORP  Pending  02/20/2019  07/18/2017   \n",
      "44241               467 STAR DELI INC.   Issued  12/17/2019  12/18/2019   \n",
      "9311                 Star Cleaners LLC   Issued  08/27/2019  08/30/2019   \n",
      "145137              ARCO GROUP USA INC   Issued  06/28/2016  07/19/2016   \n",
      "\n",
      "                   License Category Application Category            Street  \\\n",
      "104620  Home Improvement Contractor              Special  RESERVOIR OVAL E   \n",
      "168507           Dealer In Products                Basic       DIVISION ST   \n",
      "107987            Electronics Store                Basic     MANHATTAN AVE   \n",
      "102844            Electronics Store                Basic        CHURCH AVE   \n",
      "49008   Home Improvement Contractor              Special     CENTERPORT RD   \n",
      "...                             ...                  ...               ...   \n",
      "44830                        Garage                Basic         FULTON ST   \n",
      "25660                        Garage                Basic         W 42ND ST   \n",
      "44241         Tobacco Retail Dealer                Basic        W 125TH ST   \n",
      "9311                      Laundries                Basic          MANOR RD   \n",
      "145137  Home Improvement Contractor              Special          15TH AVE   \n",
      "\n",
      "                 City    Zip Contact Phone License Expiration Date  \\\n",
      "104620          BRONX  10467    9178047161              02/28/2021   \n",
      "168507       NEW YORK  10002    2129251900              03/15/2021   \n",
      "107987       BROOKLYN  11222  347-987-3235              12/31/2020   \n",
      "102844       BROOKLYN  11226  718-484-7746              12/31/2020   \n",
      "49008       GREENLAWN  11740    6312362914              02/28/2019   \n",
      "...               ...    ...           ...                     ...   \n",
      "44830        BROOKLYN  11238    2124903460              02/11/2020   \n",
      "25660        NEW YORK  10036    9174727056              11/17/2019   \n",
      "44241        NEW YORK  10027  646-881-2656              12/31/2021   \n",
      "9311    STATEN ISLAND  10314    6465523728              12/31/2021   \n",
      "145137       BROOKLYN  11228  917 575-9093              02/28/2017   \n",
      "\n",
      "       License Status License Creation Date  \n",
      "104620         Active            07/30/2008  \n",
      "168507         Active            08/26/2013  \n",
      "107987         Active            07/22/2015  \n",
      "102844         Active            01/05/2017  \n",
      "49008        Inactive            11/12/2009  \n",
      "...               ...                   ...  \n",
      "44830          Active            09/18/2019  \n",
      "25660        Inactive            07/18/2017  \n",
      "44241          Active            02/23/2018  \n",
      "9311           Active            08/30/2019  \n",
      "145137       Inactive            07/18/2016  \n",
      "\n",
      "[88627 rows x 17 columns]>\n",
      "['Application ID', 'License Number', 'License Type', 'Application or Renewal', 'Business Name', 'Status', 'Start Date', 'End Date', 'License Category', 'Application Category', 'Street', 'City', 'Zip', 'Contact Phone', 'License Expiration Date', 'License Status', 'License Creation Date']\n"
     ]
    }
   ],
   "source": [
    "print(main.head)\n",
    "print(list(main.columns.values))"
   ]
  },
  {
   "cell_type": "code",
   "execution_count": 8,
   "metadata": {},
   "outputs": [],
   "source": [
    "# main.to_csv('main.csv')"
   ]
  },
  {
   "cell_type": "code",
   "execution_count": 9,
   "metadata": {},
   "outputs": [],
   "source": [
    "main = main.iloc[:250]\n",
    "col_names = main.columns\n",
    "dic = {}\n",
    "for i in range(len(col_names)):\n",
    "    new = col_names[i].replace(\" \",\"\")\n",
    "    dic[col_names[i]] = new\n",
    "    \n",
    "main = main.rename(columns = dic)"
   ]
  },
  {
   "cell_type": "code",
   "execution_count": 10,
   "metadata": {},
   "outputs": [
    {
     "name": "stdout",
     "output_type": "stream",
     "text": [
      "{'Application ID': 'ApplicationID', 'License Number': 'LicenseNumber', 'License Type': 'LicenseType', 'Application or Renewal': 'ApplicationorRenewal', 'Business Name': 'BusinessName', 'Status': 'Status', 'Start Date': 'StartDate', 'End Date': 'EndDate', 'License Category': 'LicenseCategory', 'Application Category': 'ApplicationCategory', 'Street': 'Street', 'City': 'City', 'Zip': 'Zip', 'Contact Phone': 'ContactPhone', 'License Expiration Date': 'LicenseExpirationDate', 'License Status': 'LicenseStatus', 'License Creation Date': 'LicenseCreationDate'}\n"
     ]
    }
   ],
   "source": [
    "print (dic)"
   ]
  },
  {
   "cell_type": "code",
   "execution_count": 11,
   "metadata": {},
   "outputs": [],
   "source": [
    "# main.to_csv('main_div2.csv')\n",
    "# "
   ]
  },
  {
   "cell_type": "code",
   "execution_count": 31,
   "metadata": {},
   "outputs": [
    {
     "name": "stdout",
     "output_type": "stream",
     "text": [
      "site/data_csv/ApplicationCategory\n"
     ]
    }
   ],
   "source": [
    "from pandas import DataFrame\n",
    "for categ in ['ApplicationCategory','ApplicationorRenewal','Status','LicenseCategory','City','LicenseStatus']:\n",
    "    xx = main[categ].value_counts().to_dict()\n",
    "    df = DataFrame(list(xx.items()),columns = ['name','value']) \n",
    "    address = 'site/data_csv/'+categ+\".csv\"\n",
    "    df.to_csv(address)"
   ]
  },
  {
   "cell_type": "code",
   "execution_count": 28,
   "metadata": {},
   "outputs": [],
   "source": [
    "\n"
   ]
  },
  {
   "cell_type": "code",
   "execution_count": null,
   "metadata": {},
   "outputs": [],
   "source": []
  }
 ],
 "metadata": {
  "kernelspec": {
   "display_name": "Python 3",
   "language": "python",
   "name": "python3"
  },
  "language_info": {
   "codemirror_mode": {
    "name": "ipython",
    "version": 3
   },
   "file_extension": ".py",
   "mimetype": "text/x-python",
   "name": "python",
   "nbconvert_exporter": "python",
   "pygments_lexer": "ipython3",
   "version": "3.7.4"
  }
 },
 "nbformat": 4,
 "nbformat_minor": 2
}
