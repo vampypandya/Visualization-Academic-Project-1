{
 "cells": [
  {
   "cell_type": "code",
   "execution_count": 1,
   "metadata": {},
   "outputs": [],
   "source": [
    "import pandas as pd\n",
    "import numpy as np"
   ]
  },
  {
   "cell_type": "code",
   "execution_count": 2,
   "metadata": {},
   "outputs": [
    {
     "name": "stderr",
     "output_type": "stream",
     "text": [
      "/opt/anaconda3/lib/python3.7/site-packages/IPython/core/interactiveshell.py:3058: DtypeWarning: Columns (24) have mixed types. Specify dtype option on import or set low_memory=False.\n",
      "  interactivity=interactivity, compiler=compiler, result=result)\n",
      "/opt/anaconda3/lib/python3.7/site-packages/IPython/core/interactiveshell.py:3058: DtypeWarning: Columns (19,20) have mixed types. Specify dtype option on import or set low_memory=False.\n",
      "  interactivity=interactivity, compiler=compiler, result=result)\n"
     ]
    }
   ],
   "source": [
    "data1 = pd.read_csv('License_Applications.csv')  \n",
    "data2 = pd.read_csv('Legally_Operating_Businesses.csv') "
   ]
  },
  {
   "cell_type": "code",
   "execution_count": 3,
   "metadata": {},
   "outputs": [
    {
     "name": "stdout",
     "output_type": "stream",
     "text": [
      "['Application ID', 'License Number', 'License Type', 'Application or Renewal', 'Business Name', 'Status', 'Start Date', 'End Date', 'License Category', 'Application Category', 'Street', 'City', 'Zip', 'Contact Phone']\n",
      "(213476, 14)\n"
     ]
    }
   ],
   "source": [
    " \n",
    "\n",
    "# print(data1.head())\n",
    "# print(list(data1.columns.values))\n",
    "# print(len(list(data1.columns.values)))\n",
    "# print(data1.head)\n",
    "# Rem_List: 'Longitude', 'Latitude','Building Number','Temp Op Letter Issued', 'Temp Op Letter Expiration','Description','State','Active Vehicles','Street 2', 'Unit Type', 'Unit'\n",
    "data1 = data1.drop(['Longitude', 'Latitude','Building Number','Temp Op Letter Issued', 'Temp Op Letter Expiration','Description','State','Active Vehicles','Street 2', 'Unit Type', 'Unit'], axis=1)\n",
    "data1 = data1.dropna()\n",
    "data1 = data1.dropna(axis='columns')\n",
    "print(list(data1.columns.values))\n",
    "print(data1.shape)\n"
   ]
  },
  {
   "cell_type": "code",
   "execution_count": 4,
   "metadata": {},
   "outputs": [
    {
     "name": "stdout",
     "output_type": "stream",
     "text": [
      "<bound method NDFrame.head of        DCA License Number License Type License Expiration Date License Status  \\\n",
      "0             1232665-DCA   Individual              02/28/2021         Active   \n",
      "1             1217192-DCA   Individual              02/28/2021         Active   \n",
      "2             0868067-DCA   Individual              02/28/2021         Active   \n",
      "3             2012563-DCA   Individual              02/28/2021         Active   \n",
      "4             1351461-DCA   Individual              04/30/2020         Active   \n",
      "...                   ...          ...                     ...            ...   \n",
      "201794      2026189-2-DCA     Business              12/31/2020         Active   \n",
      "201795        1003888-DCA     Business              07/31/2021         Active   \n",
      "201796        1252203-DCA     Business              09/15/2013       Inactive   \n",
      "201797      2082881-2-DCA     Business              11/30/2020         Active   \n",
      "201798        1054840-DCA     Business              12/31/2020         Active   \n",
      "\n",
      "       License Creation Date                      Industry  \\\n",
      "0                 07/10/2006  Home Improvement Salesperson   \n",
      "1                 01/09/2006  Home Improvement Salesperson   \n",
      "2                 10/04/1994  Home Improvement Salesperson   \n",
      "3                 08/27/2014  Home Improvement Salesperson   \n",
      "4                 04/23/2010                Pedicab Driver   \n",
      "...                      ...                           ...   \n",
      "201794            07/27/2015         Tobacco Retail Dealer   \n",
      "201795            02/25/1999   Secondhand Dealer - General   \n",
      "201796            04/14/2007                 Sidewalk Cafe   \n",
      "201797            03/05/2019   Electronic Cigarette Dealer   \n",
      "201798            12/05/2000         Tobacco Retail Dealer   \n",
      "\n",
      "                 Business Name       Business Name 2 Address Building  \\\n",
      "0          CATALFUMO, DANIEL J                   NaN              NaN   \n",
      "1             MICHILLI, ANGELO                   NaN              NaN   \n",
      "2                BURKE, EDWARD                   NaN              NaN   \n",
      "3                  CHEN, YI FA                   NaN              NaN   \n",
      "4              HASANOV, JEYHUN                   NaN              NaN   \n",
      "...                        ...                   ...              ...   \n",
      "201794         SHREEJI 315 INC                   NaN              315   \n",
      "201795            SOSA, ROCK H  NEW SOSA ELECTRONICS              261   \n",
      "201796       SALSA SALON, INC.                   NaN               47   \n",
      "201797  M & E CANDY STORE CORP                   NaN              148   \n",
      "201798          K P DELI CORP.                   NaN              255   \n",
      "\n",
      "       Address Street Name  ... Community Board Council District          BIN  \\\n",
      "0                      NaN  ...             NaN              NaN          NaN   \n",
      "1                      NaN  ...             NaN              NaN          NaN   \n",
      "2                      NaN  ...             NaN              NaN          NaN   \n",
      "3                      NaN  ...             NaN              NaN          NaN   \n",
      "4                      NaN  ...             NaN              NaN          NaN   \n",
      "...                    ...  ...             ...              ...          ...   \n",
      "201794             1ST AVE  ...           106.0              2.0  1.02049e+06   \n",
      "201795         WYCKOFF AVE  ...           304.0             37.0  3.07577e+06   \n",
      "201796           E 12TH ST  ...           102.0              2.0  1.08468e+06   \n",
      "201797         MONTAGUE ST  ...           302.0             33.0  3.00208e+06   \n",
      "201798          HYLAN BLVD  ...           501.0             49.0  5.09084e+06   \n",
      "\n",
      "                BBL   NTA Census Tract  \\\n",
      "0               NaN   NaN          NaN   \n",
      "1               NaN   NaN          NaN   \n",
      "2               NaN   NaN          NaN   \n",
      "3               NaN   NaN          NaN   \n",
      "4               NaN   NaN          NaN   \n",
      "...             ...   ...          ...   \n",
      "201794  1.00924e+09  MN21         48.0   \n",
      "201795  3.03311e+09  BK77        441.0   \n",
      "201796  1.00564e+09  MN23         61.0   \n",
      "201797  3.00249e+09  BK09        502.0   \n",
      "201798  5.02853e+09  SI37          8.0   \n",
      "\n",
      "                                                   Detail  Longitude  \\\n",
      "0                                                     NaN        NaN   \n",
      "1                                                     NaN        NaN   \n",
      "2                                                     NaN        NaN   \n",
      "3                                                     NaN        NaN   \n",
      "4                                                     NaN        NaN   \n",
      "...                                                   ...        ...   \n",
      "201794                                                NaN -73.980569   \n",
      "201795                                                NaN -73.914197   \n",
      "201796  Sidewalk Cafe Type: Unenclosed, Square Feet: 7... -73.991683   \n",
      "201797                                                NaN -73.993329   \n",
      "201798                                                NaN -74.070374   \n",
      "\n",
      "         Latitude                                  Location  \n",
      "0             NaN                                       NaN  \n",
      "1             NaN                                       NaN  \n",
      "2             NaN                                       NaN  \n",
      "3             NaN                                       NaN  \n",
      "4             NaN                                       NaN  \n",
      "...           ...                                       ...  \n",
      "201794  40.733903   (40.73390349266078, -73.98056937440188)  \n",
      "201795  40.701265  (40.701265402071414, -73.91419725787644)  \n",
      "201796  40.733463   (40.73346292620985, -73.99168295346709)  \n",
      "201797  40.694518    (40.69451761556611, -73.9933286123902)  \n",
      "201798  40.611939   (40.61193872381227, -74.07037351766044)  \n",
      "\n",
      "[201799 rows x 27 columns]>\n",
      "['DCA License Number', 'License Expiration Date', 'License Status', 'License Creation Date']\n",
      "(201766, 4)\n"
     ]
    }
   ],
   "source": [
    "# print(data2.head())\n",
    "# print(list(data2.columns.values))\n",
    "# print(len(list(data2.columns.values)))\n",
    "print(data2.head)\n",
    "\n",
    "#Rem List: 'Business Name', 'Business Name 2', 'Address Building', 'Address Street Name', 'Secondary Address Street Name', 'Address City', 'Address Borough', 'Borough Code', 'Longitude', 'Latitude', 'Location','Address State','Community Board', 'Council District', 'BIN', 'BBL', 'NTA', 'Census Tract', 'Detail'\n",
    "data2 = data2.drop(['Industry','Address ZIP','License Type','Contact Phone Number','Business Name', 'Business Name 2', 'Address Building', 'Address Street Name', 'Secondary Address Street Name', 'Address City', 'Address Borough', 'Borough Code', 'Longitude', 'Latitude', 'Location','Address State','Community Board', 'Council District', 'BIN', 'BBL', 'NTA', 'Census Tract', 'Detail'], axis=1)\n",
    "data2 = data2.dropna()\n",
    "data2 = data2.dropna(axis='columns')\n",
    "print(list(data2.columns.values))\n",
    "print(data2.shape)\n",
    "\n",
    "\n"
   ]
  },
  {
   "cell_type": "code",
   "execution_count": 5,
   "metadata": {},
   "outputs": [],
   "source": [
    "main = data1.merge(data2,left_on = \"License Number\", right_on = \"DCA License Number\", left_index = True, copy=False)\n",
    "main = main.drop(['DCA License Number'],axis = 1)\n",
    "main.drop_duplicates(subset = ['License Number'], keep='first',inplace=True) "
   ]
  },
  {
   "cell_type": "code",
   "execution_count": 6,
   "metadata": {},
   "outputs": [
    {
     "name": "stdout",
     "output_type": "stream",
     "text": [
      "(88627, 17)\n"
     ]
    }
   ],
   "source": [
    "# print(main.head())\n",
    "print(main.shape)"
   ]
  },
  {
   "cell_type": "code",
   "execution_count": 7,
   "metadata": {},
   "outputs": [
    {
     "name": "stdout",
     "output_type": "stream",
     "text": [
      "['Application ID', 'License Number', 'License Type', 'Application or Renewal', 'Business Name', 'Status', 'Start Date', 'End Date', 'License Category', 'Application Category', 'Street', 'City', 'Zip', 'Contact Phone', 'License Expiration Date', 'License Status', 'License Creation Date']\n"
     ]
    }
   ],
   "source": [
    "# print(main.head)\n",
    "print(list(main.columns.values))"
   ]
  },
  {
   "cell_type": "code",
   "execution_count": 8,
   "metadata": {},
   "outputs": [],
   "source": [
    "# main.to_csv('main.csv')"
   ]
  },
  {
   "cell_type": "code",
   "execution_count": 9,
   "metadata": {},
   "outputs": [],
   "source": [
    "main = main.iloc[:350]\n",
    "col_names = main.columns\n",
    "dic = {}\n",
    "for i in range(len(col_names)):\n",
    "    new = col_names[i].replace(\" \",\"\")\n",
    "    dic[col_names[i]] = new\n",
    "    \n",
    "main = main.rename(columns = dic)"
   ]
  },
  {
   "cell_type": "code",
   "execution_count": 10,
   "metadata": {},
   "outputs": [
    {
     "name": "stdout",
     "output_type": "stream",
     "text": [
      "{'Application ID': 'ApplicationID', 'License Number': 'LicenseNumber', 'License Type': 'LicenseType', 'Application or Renewal': 'ApplicationorRenewal', 'Business Name': 'BusinessName', 'Status': 'Status', 'Start Date': 'StartDate', 'End Date': 'EndDate', 'License Category': 'LicenseCategory', 'Application Category': 'ApplicationCategory', 'Street': 'Street', 'City': 'City', 'Zip': 'Zip', 'Contact Phone': 'ContactPhone', 'License Expiration Date': 'LicenseExpirationDate', 'License Status': 'LicenseStatus', 'License Creation Date': 'LicenseCreationDate'}\n"
     ]
    }
   ],
   "source": [
    "print (dic)"
   ]
  },
  {
   "cell_type": "code",
   "execution_count": 11,
   "metadata": {},
   "outputs": [
    {
     "name": "stdout",
     "output_type": "stream",
     "text": [
      "          ApplicationID LicenseNumber LicenseType ApplicationorRenewal  \\\n",
      "104620   1066-2017-RHIC   1294131-DCA    Business              Renewal   \n",
      "168507   1164-2019-RDPD   1472251-DCA    Business              Renewal   \n",
      "107987  33701-2016-RELE   2025971-DCA    Business              Renewal   \n",
      "102844  34278-2018-RELE   2047043-DCA    Business              Renewal   \n",
      "49008     949-2017-RHIC   1338463-DCA    Business              Renewal   \n",
      "\n",
      "                       BusinessName  Status   StartDate     EndDate  \\\n",
      "104620                 PEYKO TZENOV  Issued  01/09/2017  01/10/2017   \n",
      "168507  AMERICAN EAST PHARMACY INC.  Issued  01/09/2019  01/10/2019   \n",
      "107987        LUCAS ELECTRONICS INC  Issued  12/31/2016  01/10/2017   \n",
      "102844  ELITE WIRELESS GROUP NY LLC  Issued  12/31/2018  01/08/2019   \n",
      "49008             TAORMINA, MICHAEL  Issued  01/06/2017  01/07/2017   \n",
      "\n",
      "                    LicenseCategory ApplicationCategory            Street  \\\n",
      "104620  Home Improvement Contractor             Special  RESERVOIR OVAL E   \n",
      "168507           Dealer In Products               Basic       DIVISION ST   \n",
      "107987            Electronics Store               Basic     MANHATTAN AVE   \n",
      "102844            Electronics Store               Basic        CHURCH AVE   \n",
      "49008   Home Improvement Contractor             Special     CENTERPORT RD   \n",
      "\n",
      "             City    Zip  ContactPhone LicenseExpirationDate LicenseStatus  \\\n",
      "104620      BRONX  10467    9178047161            02/28/2021        Active   \n",
      "168507   NEW YORK  10002    2129251900            03/15/2021        Active   \n",
      "107987   BROOKLYN  11222  347-987-3235            12/31/2020        Active   \n",
      "102844   BROOKLYN  11226  718-484-7746            12/31/2020        Active   \n",
      "49008   GREENLAWN  11740    6312362914            02/28/2019      Inactive   \n",
      "\n",
      "       LicenseCreationDate  \n",
      "104620          07/30/2008  \n",
      "168507          08/26/2013  \n",
      "107987          07/22/2015  \n",
      "102844          01/05/2017  \n",
      "49008           11/12/2009  \n"
     ]
    }
   ],
   "source": [
    "# main.to_csv('main_div2.csv')\n",
    "# \n",
    "print(main.head())"
   ]
  },
  {
   "cell_type": "code",
   "execution_count": 12,
   "metadata": {},
   "outputs": [],
   "source": [
    "main['EndYear'] = pd.DatetimeIndex(main['EndDate']).year\n",
    "main['EndMonth'] = pd.DatetimeIndex(main['EndDate']).month\n",
    "main['EndDay'] = pd.DatetimeIndex(main['EndDate']).day\n",
    "\n",
    "main['StartYear'] = pd.DatetimeIndex(main['StartDate']).year\n",
    "main['StartMonth'] = pd.DatetimeIndex(main['StartDate']).month\n",
    "main['StartDay'] = pd.DatetimeIndex(main['StartDate']).day\n",
    "\n",
    "main['LicenseCreationDateStartYear'] = pd.DatetimeIndex(main['LicenseCreationDate']).year\n",
    "main['LicenseCreationDateStartMonth'] = pd.DatetimeIndex(main['LicenseCreationDate']).month\n",
    "main['LicenseCreationDateStartDay'] = pd.DatetimeIndex(main['LicenseCreationDate']).day\n",
    "\n",
    "main['LicenseExpirationDateEndYear'] = pd.DatetimeIndex(main['LicenseExpirationDate']).year\n",
    "main['LicenseExpirationDateEndMonth'] = pd.DatetimeIndex(main['LicenseExpirationDate']).month\n",
    "main['LicenseExpirationDateEndDay'] = pd.DatetimeIndex(main['LicenseExpirationDate']).day\n",
    "\n",
    "main = main.drop(['Street','EndDate','StartDate','LicenseCreationDate','LicenseExpirationDate'], axis=1)"
   ]
  },
  {
   "cell_type": "code",
   "execution_count": 13,
   "metadata": {},
   "outputs": [
    {
     "data": {
      "text/plain": [
       "<bound method NDFrame.head of           ApplicationID LicenseNumber LicenseType ApplicationorRenewal  \\\n",
       "104620   1066-2017-RHIC   1294131-DCA    Business              Renewal   \n",
       "168507   1164-2019-RDPD   1472251-DCA    Business              Renewal   \n",
       "107987  33701-2016-RELE   2025971-DCA    Business              Renewal   \n",
       "102844  34278-2018-RELE   2047043-DCA    Business              Renewal   \n",
       "49008     949-2017-RHIC   1338463-DCA    Business              Renewal   \n",
       "...                 ...           ...         ...                  ...   \n",
       "124641  14406-2017-RPRK   0852507-DCA    Business              Renewal   \n",
       "194418   4937-2019-AEHD   2085306-DCA    Business          Application   \n",
       "109048   4454-2019-AHIC   2085268-DCA    Business          Application   \n",
       "189271   1273-2017-RHIC   2019040-DCA    Business              Renewal   \n",
       "193355    882-2019-RHIC   0885169-DCA    Business              Renewal   \n",
       "\n",
       "                          BusinessName     Status  \\\n",
       "104620                    PEYKO TZENOV     Issued   \n",
       "168507     AMERICAN EAST PHARMACY INC.     Issued   \n",
       "107987           LUCAS ELECTRONICS INC     Issued   \n",
       "102844     ELITE WIRELESS GROUP NY LLC     Issued   \n",
       "49008                TAORMINA, MICHAEL     Issued   \n",
       "...                                ...        ...   \n",
       "124641  INTER BORO BELL & BUZZER, INC.  Withdrawn   \n",
       "194418                   WIZXPRESS INC     Issued   \n",
       "109048                 GOXHAJ & CO LLC     Issued   \n",
       "189271   MACK GENERAL CONTRACTORS INC.     Issued   \n",
       "193355                  BEER, THAHAL S     Issued   \n",
       "\n",
       "                       LicenseCategory ApplicationCategory              City  \\\n",
       "104620     Home Improvement Contractor             Special             BRONX   \n",
       "168507              Dealer In Products               Basic          NEW YORK   \n",
       "107987               Electronics Store               Basic          BROOKLYN   \n",
       "102844               Electronics Store               Basic          BROOKLYN   \n",
       "49008      Home Improvement Contractor             Special         GREENLAWN   \n",
       "...                                ...                 ...               ...   \n",
       "124641                     Parking Lot               Basic             BRONX   \n",
       "194418  Electronic & Appliance Service               Basic          BROOKLYN   \n",
       "109048     Home Improvement Contractor             Special          BROOKLYN   \n",
       "189271     Home Improvement Contractor             Special     RICHMOND HILL   \n",
       "193355     Home Improvement Contractor             Special  SOUTH OZONE PARK   \n",
       "\n",
       "          Zip  ... EndDay StartYear  StartMonth  StartDay  \\\n",
       "104620  10467  ...     10      2017           1         9   \n",
       "168507  10002  ...     10      2019           1         9   \n",
       "107987  11222  ...     10      2016          12        31   \n",
       "102844  11226  ...      8      2018          12        31   \n",
       "49008   11740  ...      7      2017           1         6   \n",
       "...       ...  ...    ...       ...         ...       ...   \n",
       "124641  10462  ...      9      2017           3        25   \n",
       "194418  11218  ...      2      2019           4        30   \n",
       "109048  11214  ...      2      2019           4        18   \n",
       "189271  11418  ...     11      2017           1        10   \n",
       "193355  11420  ...      9      2019           1         8   \n",
       "\n",
       "        LicenseCreationDateStartYear  LicenseCreationDateStartMonth  \\\n",
       "104620                          2008                              7   \n",
       "168507                          2013                              8   \n",
       "107987                          2015                              7   \n",
       "102844                          2017                              1   \n",
       "49008                           2009                             11   \n",
       "...                              ...                            ...   \n",
       "124641                          1995                              3   \n",
       "194418                          2019                              5   \n",
       "109048                          2019                              5   \n",
       "189271                          2015                              3   \n",
       "193355                          2002                             12   \n",
       "\n",
       "        LicenseCreationDateStartDay  LicenseExpirationDateEndYear  \\\n",
       "104620                           30                          2021   \n",
       "168507                           26                          2021   \n",
       "107987                           22                          2020   \n",
       "102844                            5                          2020   \n",
       "49008                            12                          2019   \n",
       "...                             ...                           ...   \n",
       "124641                           15                          2018   \n",
       "194418                            1                          2020   \n",
       "109048                            1                          2021   \n",
       "189271                            4                          2021   \n",
       "193355                           11                          2021   \n",
       "\n",
       "        LicenseExpirationDateEndMonth  LicenseExpirationDateEndDay  \n",
       "104620                              2                           28  \n",
       "168507                              3                           15  \n",
       "107987                             12                           31  \n",
       "102844                             12                           31  \n",
       "49008                               2                           28  \n",
       "...                               ...                          ...  \n",
       "124641                              7                            6  \n",
       "194418                              6                           30  \n",
       "109048                              2                           28  \n",
       "189271                              2                           28  \n",
       "193355                              2                           28  \n",
       "\n",
       "[350 rows x 24 columns]>"
      ]
     },
     "execution_count": 13,
     "metadata": {},
     "output_type": "execute_result"
    }
   ],
   "source": [
    "main.head\n",
    "\n"
   ]
  },
  {
   "cell_type": "code",
   "execution_count": null,
   "metadata": {},
   "outputs": [],
   "source": []
  }
 ],
 "metadata": {
  "kernelspec": {
   "display_name": "Python 3",
   "language": "python",
   "name": "python3"
  },
  "language_info": {
   "codemirror_mode": {
    "name": "ipython",
    "version": 3
   },
   "file_extension": ".py",
   "mimetype": "text/x-python",
   "name": "python",
   "nbconvert_exporter": "python",
   "pygments_lexer": "ipython3",
   "version": "3.7.4"
  }
 },
 "nbformat": 4,
 "nbformat_minor": 2
}
